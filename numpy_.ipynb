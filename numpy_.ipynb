{
  "nbformat": 4,
  "nbformat_minor": 0,
  "metadata": {
    "colab": {
      "provenance": [],
      "authorship_tag": "ABX9TyOb123B6/ouc9r0kYjmQl+C",
      "include_colab_link": true
    },
    "kernelspec": {
      "name": "python3",
      "display_name": "Python 3"
    },
    "language_info": {
      "name": "python"
    }
  },
  "cells": [
    {
      "cell_type": "markdown",
      "metadata": {
        "id": "view-in-github",
        "colab_type": "text"
      },
      "source": [
        "<a href=\"https://colab.research.google.com/github/B-SatheesKumar/Machine_Learning/blob/main/numpy_.ipynb\" target=\"_parent\"><img src=\"https://colab.research.google.com/assets/colab-badge.svg\" alt=\"Open In Colab\"/></a>"
      ]
    },
    {
      "cell_type": "code",
      "source": [
        "import numpy as np"
      ],
      "metadata": {
        "id": "uumYumQjG8kF"
      },
      "execution_count": null,
      "outputs": []
    },
    {
      "cell_type": "code",
      "source": [
        "np.random.seed(42)\n",
        "data = np.random.rand(5, 5)"
      ],
      "metadata": {
        "id": "9D9HP8NY5tFd"
      },
      "execution_count": null,
      "outputs": []
    },
    {
      "cell_type": "code",
      "source": [
        "# 1. Display the dataset\n",
        "print(\"Original Dataset:\")\n",
        "print(data)\n",
        "print(\"\\n\")"
      ],
      "metadata": {
        "colab": {
          "base_uri": "https://localhost:8080/"
        },
        "id": "rTg0T5eM5xqg",
        "outputId": "b9087977-ffc9-4a8a-c952-c04d25b175e2"
      },
      "execution_count": null,
      "outputs": [
        {
          "output_type": "stream",
          "name": "stdout",
          "text": [
            "Original Dataset:\n",
            "[[0.37454012 0.95071431 0.73199394 0.59865848 0.15601864]\n",
            " [0.15599452 0.05808361 0.86617615 0.60111501 0.70807258]\n",
            " [0.02058449 0.96990985 0.83244264 0.21233911 0.18182497]\n",
            " [0.18340451 0.30424224 0.52475643 0.43194502 0.29122914]\n",
            " [0.61185289 0.13949386 0.29214465 0.36636184 0.45606998]]\n",
            "\n",
            "\n"
          ]
        }
      ]
    },
    {
      "cell_type": "code",
      "source": [
        "# 2. Get the shape of the dataset\n",
        "print(\"Shape of the dataset:\")\n",
        "print(data.shape)\n",
        "print(\"\\n\")"
      ],
      "metadata": {
        "colab": {
          "base_uri": "https://localhost:8080/"
        },
        "id": "GprMxLRD52WU",
        "outputId": "195f3d89-06b3-47db-dfc5-4b62382300ce"
      },
      "execution_count": null,
      "outputs": [
        {
          "output_type": "stream",
          "name": "stdout",
          "text": [
            "Shape of the dataset:\n",
            "(5, 5)\n",
            "\n",
            "\n"
          ]
        }
      ]
    },
    {
      "cell_type": "code",
      "source": [
        "# 3. Reshape the dataset\n",
        "reshaped_data = data.reshape((1, 25))\n",
        "print(\"Reshaped Dataset:\")\n",
        "print(reshaped_data)\n",
        "print(\"\\n\")"
      ],
      "metadata": {
        "colab": {
          "base_uri": "https://localhost:8080/"
        },
        "id": "pBT1Bx1f58hv",
        "outputId": "aa792f25-3af2-4fd5-e667-d7ba23e9c886"
      },
      "execution_count": null,
      "outputs": [
        {
          "output_type": "stream",
          "name": "stdout",
          "text": [
            "Reshaped Dataset:\n",
            "[[0.37454012 0.95071431 0.73199394 0.59865848 0.15601864 0.15599452\n",
            "  0.05808361 0.86617615 0.60111501 0.70807258 0.02058449 0.96990985\n",
            "  0.83244264 0.21233911 0.18182497 0.18340451 0.30424224 0.52475643\n",
            "  0.43194502 0.29122914 0.61185289 0.13949386 0.29214465 0.36636184\n",
            "  0.45606998]]\n",
            "\n",
            "\n"
          ]
        }
      ]
    },
    {
      "cell_type": "code",
      "source": [
        "# 4. Transpose the dataset\n",
        "transposed_data = data.T\n",
        "print(\"Transposed Dataset:\")\n",
        "print(transposed_data)\n",
        "print(\"\\n\")"
      ],
      "metadata": {
        "colab": {
          "base_uri": "https://localhost:8080/"
        },
        "id": "t2OW2ysd6Etc",
        "outputId": "7d72a664-e465-45ee-8646-b48020aeb97e"
      },
      "execution_count": null,
      "outputs": [
        {
          "output_type": "stream",
          "name": "stdout",
          "text": [
            "Transposed Dataset:\n",
            "[[0.37454012 0.15599452 0.02058449 0.18340451 0.61185289]\n",
            " [0.95071431 0.05808361 0.96990985 0.30424224 0.13949386]\n",
            " [0.73199394 0.86617615 0.83244264 0.52475643 0.29214465]\n",
            " [0.59865848 0.60111501 0.21233911 0.43194502 0.36636184]\n",
            " [0.15601864 0.70807258 0.18182497 0.29122914 0.45606998]]\n",
            "\n",
            "\n"
          ]
        }
      ]
    },
    {
      "cell_type": "code",
      "source": [
        "# 5. Slice a portion of the dataset\n",
        "sliced_data = data[:2, :2]\n",
        "print(\"Sliced Dataset:\")\n",
        "print(sliced_data)\n",
        "print(\"\\n\")"
      ],
      "metadata": {
        "colab": {
          "base_uri": "https://localhost:8080/"
        },
        "id": "6G4HKL4F6J9p",
        "outputId": "68263f30-fa1a-41f5-8179-f293886d4912"
      },
      "execution_count": null,
      "outputs": [
        {
          "output_type": "stream",
          "name": "stdout",
          "text": [
            "Sliced Dataset:\n",
            "[[0.37454012 0.95071431]\n",
            " [0.15599452 0.05808361]]\n",
            "\n",
            "\n"
          ]
        }
      ]
    },
    {
      "cell_type": "code",
      "source": [
        "# 6. Compute the mean along a specific axis\n",
        "mean_axis_0 = np.mean(data, axis=0)\n",
        "print(\"Mean along axis 0:\")\n",
        "print(mean_axis_0)\n",
        "print(\"\\n\")"
      ],
      "metadata": {
        "colab": {
          "base_uri": "https://localhost:8080/"
        },
        "id": "QyKZxZQa6Mx8",
        "outputId": "974c73a3-59d2-4e3c-e5ae-d96e22ab8dd1"
      },
      "execution_count": null,
      "outputs": [
        {
          "output_type": "stream",
          "name": "stdout",
          "text": [
            "Mean along axis 0:\n",
            "[0.26927531 0.48448877 0.64950276 0.44208389 0.35864306]\n",
            "\n",
            "\n"
          ]
        }
      ]
    },
    {
      "cell_type": "code",
      "source": [
        "# 7. Compute the sum along a specific axis\n",
        "sum_axis_1 = np.sum(data, axis=1)\n",
        "print(\"Sum along axis 1:\")\n",
        "print(sum_axis_1)\n",
        "print(\"\\n\")"
      ],
      "metadata": {
        "colab": {
          "base_uri": "https://localhost:8080/"
        },
        "id": "46C4vpw-6SWa",
        "outputId": "8b9853d9-a90f-46a1-d67c-4977df3155d0"
      },
      "execution_count": null,
      "outputs": [
        {
          "output_type": "stream",
          "name": "stdout",
          "text": [
            "Sum along axis 1:\n",
            "[2.81192549 2.38944187 2.21710107 1.73557734 1.86592323]\n",
            "\n",
            "\n"
          ]
        }
      ]
    },
    {
      "cell_type": "code",
      "source": [
        "# 8. Element-wise addition\n",
        "addition_result = data + 1\n",
        "print(\"Element-wise Addition:\")\n",
        "print(addition_result)\n",
        "print(\"\\n\")"
      ],
      "metadata": {
        "colab": {
          "base_uri": "https://localhost:8080/"
        },
        "id": "VWovbILe6dCF",
        "outputId": "8a3632dd-da59-490f-c0e8-4b0f0f78963b"
      },
      "execution_count": null,
      "outputs": [
        {
          "output_type": "stream",
          "name": "stdout",
          "text": [
            "Element-wise Addition:\n",
            "[[1.37454012 1.95071431 1.73199394 1.59865848 1.15601864]\n",
            " [1.15599452 1.05808361 1.86617615 1.60111501 1.70807258]\n",
            " [1.02058449 1.96990985 1.83244264 1.21233911 1.18182497]\n",
            " [1.18340451 1.30424224 1.52475643 1.43194502 1.29122914]\n",
            " [1.61185289 1.13949386 1.29214465 1.36636184 1.45606998]]\n",
            "\n",
            "\n"
          ]
        }
      ]
    },
    {
      "cell_type": "code",
      "source": [
        "# 9. Element-wise multiplication\n",
        "multiplication_result = data * 2\n",
        "print(\"Element-wise Multiplication:\")\n",
        "print(multiplication_result)\n",
        "print(\"\\n\")"
      ],
      "metadata": {
        "colab": {
          "base_uri": "https://localhost:8080/"
        },
        "id": "EKaVrnZh6e-0",
        "outputId": "fb431b73-e506-47a8-ffdc-a85e0bbfc5bc"
      },
      "execution_count": null,
      "outputs": [
        {
          "output_type": "stream",
          "name": "stdout",
          "text": [
            "Element-wise Multiplication:\n",
            "[[0.74908024 1.90142861 1.46398788 1.19731697 0.31203728]\n",
            " [0.31198904 0.11616722 1.73235229 1.20223002 1.41614516]\n",
            " [0.04116899 1.9398197  1.66488528 0.42467822 0.36364993]\n",
            " [0.36680902 0.60848449 1.04951286 0.86389004 0.58245828]\n",
            " [1.22370579 0.27898772 0.5842893  0.73272369 0.91213997]]\n",
            "\n",
            "\n"
          ]
        }
      ]
    },
    {
      "cell_type": "code",
      "source": [
        "# 10. Matrix multiplication\n",
        "matrix_product = np.dot(data, data.T)\n",
        "print(\"Matrix Multiplication:\")\n",
        "print(matrix_product)\n",
        "print(\"\\n\")"
      ],
      "metadata": {
        "colab": {
          "base_uri": "https://localhost:8080/"
        },
        "id": "w6hCOqys6gkY",
        "outputId": "5474de94-be03-4bcd-fb23-66818e9330aa"
      },
      "execution_count": null,
      "outputs": [
        {
          "output_type": "stream",
          "name": "stdout",
          "text": [
            "Matrix Multiplication:\n",
            "[[1.96268692 1.21801794 1.69464656 1.04608305 0.86611142]\n",
            " [1.21801794 1.64067514 1.03697439 0.96667309 0.89975298]\n",
            " [1.69464656 1.03697439 1.71225781 0.88036402 0.55180267]\n",
            " [1.04608305 0.96667309 0.88036402 0.67296078 0.59903033]\n",
            " [0.86611142 0.89975298 0.55180267 0.59903033 0.82139183]]\n",
            "\n",
            "\n"
          ]
        }
      ]
    },
    {
      "cell_type": "code",
      "source": [
        "# 11. Compute the element-wise square root\n",
        "sqrt_result = np.sqrt(data)\n",
        "print(\"Element-wise Square Root:\")\n",
        "print(sqrt_result)\n",
        "print(\"\\n\")"
      ],
      "metadata": {
        "colab": {
          "base_uri": "https://localhost:8080/"
        },
        "id": "fIvPFrP86jEw",
        "outputId": "da389d6d-cf3f-4624-8c13-b07822a8ab25"
      },
      "execution_count": null,
      "outputs": [
        {
          "output_type": "stream",
          "name": "stdout",
          "text": [
            "Element-wise Square Root:\n",
            "[[0.61199683 0.9750458  0.85556645 0.77373024 0.39499195]\n",
            " [0.39496142 0.24100542 0.93068585 0.77531607 0.84147049]\n",
            " [0.14347297 0.98484001 0.91238295 0.46080268 0.42640939]\n",
            " [0.42825753 0.55158158 0.72440074 0.65722524 0.5396565 ]\n",
            " [0.78221026 0.37348877 0.54050407 0.60527832 0.67532954]]\n",
            "\n",
            "\n"
          ]
        }
      ]
    },
    {
      "cell_type": "code",
      "source": [
        "# 12. Compute the element-wise exponential\n",
        "exp_result = np.exp(data)\n",
        "print(\"Element-wise Exponential:\")\n",
        "print(exp_result)\n",
        "print(\"\\n\")"
      ],
      "metadata": {
        "colab": {
          "base_uri": "https://localhost:8080/"
        },
        "id": "8WBVNcEj6n6j",
        "outputId": "905eaf38-a11d-44ab-ee4e-e95f27c4862d"
      },
      "execution_count": null,
      "outputs": [
        {
          "output_type": "stream",
          "name": "stdout",
          "text": [
            "Element-wise Exponential:\n",
            "[[1.45432245 2.58755731 2.07922233 1.81967604 1.16884799]\n",
            " [1.1688198  1.0598036  2.37780108 1.82415162 2.03007467]\n",
            " [1.02079782 2.63770667 2.29892734 1.23656715 1.19940424]\n",
            " [1.20130025 1.3555974  1.69004716 1.54025043 1.33807115]\n",
            " [1.84384469 1.14969175 1.33929673 1.4424771  1.57786077]]\n",
            "\n",
            "\n"
          ]
        }
      ]
    },
    {
      "cell_type": "code",
      "source": [
        "# 13. Compute the element-wise natural logarithm\n",
        "log_result = np.log(data)\n",
        "print(\"Element-wise Natural Logarithm:\")\n",
        "print(log_result)\n",
        "print(\"\\n\")"
      ],
      "metadata": {
        "colab": {
          "base_uri": "https://localhost:8080/"
        },
        "id": "GWiOZ_aR6sic",
        "outputId": "5e5a56e4-71dd-487e-ac90-cb3b3a2da7e2"
      },
      "execution_count": null,
      "outputs": [
        {
          "output_type": "stream",
          "name": "stdout",
          "text": [
            "Element-wise Natural Logarithm:\n",
            "[[-0.98205636 -0.05054168 -0.31198304 -0.51306399 -1.85777979]\n",
            " [-1.8579344  -2.84587172 -0.14366699 -0.508969   -0.34520868]\n",
            " [-3.88321719 -0.03055215 -0.18339096 -1.5495707  -1.70471077]\n",
            " [-1.69606113 -1.18993104 -0.64482106 -0.83945697 -1.2336449 ]\n",
            " [-0.49126339 -1.96973469 -1.23050623 -1.00413379 -0.78510901]]\n",
            "\n",
            "\n"
          ]
        }
      ]
    },
    {
      "cell_type": "code",
      "source": [
        "# 14. Concatenate two arrays along a specified axis\n",
        "concatenated_data = np.concatenate((data, data), axis=1)\n",
        "print(\"Concatenated Dataset:\")\n",
        "print(concatenated_data)\n",
        "print(\"\\n\")"
      ],
      "metadata": {
        "colab": {
          "base_uri": "https://localhost:8080/"
        },
        "id": "HTvIxmPP6vds",
        "outputId": "3937613c-8c7e-423e-a348-e3d0ef925869"
      },
      "execution_count": null,
      "outputs": [
        {
          "output_type": "stream",
          "name": "stdout",
          "text": [
            "Concatenated Dataset:\n",
            "[[0.37454012 0.95071431 0.73199394 0.59865848 0.15601864 0.37454012\n",
            "  0.95071431 0.73199394 0.59865848 0.15601864]\n",
            " [0.15599452 0.05808361 0.86617615 0.60111501 0.70807258 0.15599452\n",
            "  0.05808361 0.86617615 0.60111501 0.70807258]\n",
            " [0.02058449 0.96990985 0.83244264 0.21233911 0.18182497 0.02058449\n",
            "  0.96990985 0.83244264 0.21233911 0.18182497]\n",
            " [0.18340451 0.30424224 0.52475643 0.43194502 0.29122914 0.18340451\n",
            "  0.30424224 0.52475643 0.43194502 0.29122914]\n",
            " [0.61185289 0.13949386 0.29214465 0.36636184 0.45606998 0.61185289\n",
            "  0.13949386 0.29214465 0.36636184 0.45606998]]\n",
            "\n",
            "\n"
          ]
        }
      ]
    },
    {
      "cell_type": "code",
      "source": [
        "# 15. Find the unique elements in the dataset\n",
        "unique_elements = np.unique(data)\n",
        "print(\"Unique Elements:\")\n",
        "print(unique_elements)\n",
        "print(\"\\n\")"
      ],
      "metadata": {
        "colab": {
          "base_uri": "https://localhost:8080/"
        },
        "id": "x0dJ4T9G6x6n",
        "outputId": "64dab2d7-e8e0-41a5-ffee-b03921d736af"
      },
      "execution_count": null,
      "outputs": [
        {
          "output_type": "stream",
          "name": "stdout",
          "text": [
            "Unique Elements:\n",
            "[0.02058449 0.05808361 0.13949386 0.15599452 0.15601864 0.18182497\n",
            " 0.18340451 0.21233911 0.29122914 0.29214465 0.30424224 0.36636184\n",
            " 0.37454012 0.43194502 0.45606998 0.52475643 0.59865848 0.60111501\n",
            " 0.61185289 0.70807258 0.73199394 0.83244264 0.86617615 0.95071431\n",
            " 0.96990985]\n",
            "\n",
            "\n"
          ]
        }
      ]
    },
    {
      "cell_type": "code",
      "source": [
        "# 16. Compute the dot product of two vectors\n",
        "vector_1 = np.array([1, 2, 3])\n",
        "vector_2 = np.array([4, 5, 6])\n",
        "dot_product = np.dot(vector_1, vector_2)\n",
        "print(\"Dot Product of Vectors:\")\n",
        "print(dot_product)\n",
        "print(\"\\n\")"
      ],
      "metadata": {
        "colab": {
          "base_uri": "https://localhost:8080/"
        },
        "id": "QjswQHxY7QI8",
        "outputId": "71c65403-d556-4643-d5db-0d9efd2e41f6"
      },
      "execution_count": null,
      "outputs": [
        {
          "output_type": "stream",
          "name": "stdout",
          "text": [
            "Dot Product of Vectors:\n",
            "32\n",
            "\n",
            "\n"
          ]
        }
      ]
    },
    {
      "cell_type": "code",
      "source": [
        "# 17. Compute the cross product of two vectors\n",
        "cross_product = np.cross(vector_1, vector_2)\n",
        "print(\"Cross Product of Vectors:\")\n",
        "print(cross_product)\n",
        "print(\"\\n\")"
      ],
      "metadata": {
        "colab": {
          "base_uri": "https://localhost:8080/"
        },
        "id": "V2GpbOHa7Tp2",
        "outputId": "bb8609e4-756e-41ae-ae9c-2cb028fdd387"
      },
      "execution_count": null,
      "outputs": [
        {
          "output_type": "stream",
          "name": "stdout",
          "text": [
            "Cross Product of Vectors:\n",
            "[-3  6 -3]\n",
            "\n",
            "\n"
          ]
        }
      ]
    },
    {
      "cell_type": "code",
      "source": [
        "# 18. Compute the cumulative sum along a specified axis\n",
        "cumulative_sum_axis_0 = np.cumsum(data, axis=0)\n",
        "print(\"Cumulative Sum along axis 0:\")\n",
        "print(cumulative_sum_axis_0)\n",
        "print(\"\\n\")"
      ],
      "metadata": {
        "colab": {
          "base_uri": "https://localhost:8080/"
        },
        "id": "6uHtmNRS7XH6",
        "outputId": "81270268-868a-43a8-a5ad-7a09cc9080d4"
      },
      "execution_count": null,
      "outputs": [
        {
          "output_type": "stream",
          "name": "stdout",
          "text": [
            "Cumulative Sum along axis 0:\n",
            "[[0.37454012 0.95071431 0.73199394 0.59865848 0.15601864]\n",
            " [0.53053464 1.00879792 1.59817009 1.1997735  0.86409122]\n",
            " [0.55111913 1.97870777 2.43061273 1.41211261 1.04591619]\n",
            " [0.73452364 2.28295001 2.95536916 1.84405763 1.33714533]\n",
            " [1.34637654 2.42244387 3.24751381 2.21041947 1.79321531]]\n",
            "\n",
            "\n"
          ]
        }
      ]
    },
    {
      "cell_type": "code",
      "source": [
        "# 19. Generate a random integer array\n",
        "random_integers = np.random.randint(0, 10, size=(3, 3))\n",
        "print(\"Random Integer Array:\")\n",
        "print(random_integers)\n",
        "print(\"\\n\")"
      ],
      "metadata": {
        "colab": {
          "base_uri": "https://localhost:8080/"
        },
        "id": "GwrWuEgV7ZoC",
        "outputId": "6f66e9d3-8ea0-4323-e128-f7d07f47bd38"
      },
      "execution_count": null,
      "outputs": [
        {
          "output_type": "stream",
          "name": "stdout",
          "text": [
            "Random Integer Array:\n",
            "[[2 6 3]\n",
            " [8 2 4]\n",
            " [2 6 4]]\n",
            "\n",
            "\n"
          ]
        }
      ]
    },
    {
      "cell_type": "code",
      "source": [
        "# 20. Compute the mean absolute deviation\n",
        "mad_result = np.mean(np.abs(data - np.mean(data)))\n",
        "print(\"Mean Absolute Deviation:\")\n",
        "print(mad_result)\n",
        "print(\"\\n\")"
      ],
      "metadata": {
        "id": "9n5vHVWQ7dAS",
        "outputId": "db841587-d184-4aac-f259-e687e70f7567",
        "colab": {
          "base_uri": "https://localhost:8080/"
        }
      },
      "execution_count": null,
      "outputs": [
        {
          "output_type": "stream",
          "name": "stdout",
          "text": [
            "Mean Absolute Deviation:\n",
            "0.24023807292329138\n",
            "\n",
            "\n"
          ]
        }
      ]
    },
    {
      "cell_type": "code",
      "source": [],
      "metadata": {
        "id": "uJZrszRR7fBv"
      },
      "execution_count": null,
      "outputs": []
    }
  ]
}